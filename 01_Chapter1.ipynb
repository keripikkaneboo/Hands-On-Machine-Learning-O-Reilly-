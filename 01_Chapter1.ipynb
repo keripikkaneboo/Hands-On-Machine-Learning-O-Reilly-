{
  "nbformat": 4,
  "nbformat_minor": 0,
  "metadata": {
    "colab": {
      "provenance": [],
      "authorship_tag": "ABX9TyPpsMaPGn+JPq/4EAic7kK7",
      "include_colab_link": true
    },
    "kernelspec": {
      "name": "python3",
      "display_name": "Python 3"
    },
    "language_info": {
      "name": "python"
    }
  },
  "cells": [
    {
      "cell_type": "markdown",
      "metadata": {
        "id": "view-in-github",
        "colab_type": "text"
      },
      "source": [
        "<a href=\"https://colab.research.google.com/github/keripikkaneboo/Hands-On-Machine-Learning-O-Reilly-/blob/main/01_Chapter1.ipynb\" target=\"_parent\"><img src=\"https://colab.research.google.com/assets/colab-badge.svg\" alt=\"Open In Colab\"/></a>"
      ]
    },
    {
      "cell_type": "markdown",
      "source": [
        "## Bab 1: Lanskap Machine Learning\n",
        "\n",
        "Bab ini adalah pengenalan konseptual ke dunia Machine Learning (ML). Tujuannya adalah untuk memberikan gambaran besar, mendefinisikan istilah-istilah kunci, dan memetakan berbagai jenis sistem ML. Karena bab ini bersifat teoretis, **tidak ada kode Python untuk direproduksi**.\n",
        "\n",
        "* **Definisi Machine Learning**: ML adalah bidang studi yang memberi komputer kemampuan untuk belajar tanpa diprogram secara eksplisit. Fokus utamanya adalah pada pembuatan sistem yang dapat belajar dari data, mengidentifikasi pola, dan membuat keputusan dengan intervensi manusia yang minimal.\n",
        "\n",
        "* **Mengapa Menggunakan ML**: ML sangat berguna untuk:\n",
        "    * Masalah yang solusinya memerlukan banyak aturan yang rumit jika dikerjakan secara manual (misalnya, filter spam).\n",
        "    * Masalah yang kompleks di mana pendekatan tradisional gagal.\n",
        "    * Lingkungan yang terus berubah, karena sistem ML dapat beradaptasi dengan data baru.\n",
        "    * Mendapatkan wawasan dari kumpulan data yang besar dan kompleks (*data mining*).\n",
        "\n",
        "* **Jenis-Jenis Sistem ML**: Bab ini mengkategorikan sistem ML menjadi beberapa kelompok:\n",
        "    * **Berdasarkan Supervisi**:\n",
        "        * ***Supervised Learning***: Model belajar dari data yang sudah diberi label (misalnya, klasifikasi email sebagai \"spam\" atau \"bukan spam\"). Tugas utamanya adalah **klasifikasi** dan **regresi**.\n",
        "        * ***Unsupervised Learning***: Model belajar dari data yang tidak berlabel untuk menemukan struktur atau pola tersembunyi. Contohnya adalah **clustering** dan **reduksi dimensi**.\n",
        "        * ***Semisupervised Learning***: Menggunakan kombinasi data berlabel dan tidak berlabel.\n",
        "        * ***Reinforcement Learning***: Sebuah *agent* belajar dengan berinteraksi dengan *lingkungan*. Agent menerima *reward* atau *punishment* berdasarkan tindakannya untuk belajar menemukan strategi (*policy*) terbaik.\n",
        "\n",
        "    * **Berdasarkan Cara Belajar**:\n",
        "        * ***Batch Learning***: Model dilatih menggunakan semua data yang tersedia sekaligus. Jika ada data baru, sistem harus dilatih ulang dari awal.\n",
        "        * ***Online Learning***: Model dilatih secara bertahap dengan memasukkan data secara berurutan atau dalam *mini-batch* kecil. Ini sangat baik untuk sistem yang membutuhkan adaptasi cepat.\n",
        "\n",
        "* **Tantangan Utama dalam ML**:\n",
        "    * **Data yang Tidak Cukup**: Sebagian besar algoritma ML membutuhkan banyak data untuk bisa bekerja dengan baik.\n",
        "    * **Data yang Tidak Representatif**: Jika data training tidak mewakili kasus yang akan ditemui di dunia nyata, model tidak akan dapat melakukan generalisasi dengan baik.\n",
        "    * **Data Berkualitas Rendah**: Data sering kali penuh dengan error, *outlier*, dan *noise*.\n",
        "    * ***Overfitting***: Model bekerja sangat baik pada data training, tetapi kinerjanya buruk pada data baru. Ini terjadi ketika model terlalu kompleks relatif terhadap jumlah dan kebisingan data.\n",
        "    * ***Underfitting***: Model terlalu sederhana untuk mempelajari struktur yang ada dalam data. Kinerjanya buruk baik pada data training maupun data baru.\n",
        "\n",
        "* **Testing dan Validasi**:\n",
        "    * Untuk mengetahui seberapa baik model melakukan generalisasi pada data baru, data dibagi menjadi **training set** dan **test set**.\n",
        "    * Model dilatih menggunakan *training set*, dan dievaluasi kinerjanya pada *test set*.\n",
        "    * Terkadang, *training set* dibagi lagi untuk membuat **validation set** yang digunakan untuk *hyperparameter tuning* dan pemilihan model.\n",
        "\n",
        "---"
      ],
      "metadata": {
        "id": "-0aEJqXVt4eB"
      }
    }
  ]
}